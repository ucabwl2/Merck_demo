{
 "cells": [
  {
   "cell_type": "code",
   "execution_count": 1,
   "id": "bd8d3aa2",
   "metadata": {},
   "outputs": [],
   "source": [
    "from demo_scripts import *"
   ]
  },
  {
   "cell_type": "markdown",
   "id": "f73ab6da",
   "metadata": {},
   "source": [
    "## 检索示例\n",
    "\n",
    "以下由简到繁，展示并对比图数据库检索的结果样式、及可视化效率等。\n",
    "\n",
    "\n",
    "### 基础检索\n",
    "**【1度关系检索】**如查看某种疾病相关的治疗药品。对于该类型检索，图数据库与其他类型数据库均可以胜任。\n",
    "\n",
    "查看 epilepsy 相关的治疗药品，及其信息："
   ]
  },
  {
   "cell_type": "code",
   "execution_count": 2,
   "id": "329e8a33",
   "metadata": {},
   "outputs": [
    {
     "name": "stdout",
     "output_type": "stream",
     "text": [
      "疾病 epilepsy 的治疗药物搜索结果（仅展示 5 条）：\n"
     ]
    },
    {
     "data": {
      "text/html": [
       "<div>\n",
       "<style scoped>\n",
       "    .dataframe tbody tr th:only-of-type {\n",
       "        vertical-align: middle;\n",
       "    }\n",
       "\n",
       "    .dataframe tbody tr th {\n",
       "        vertical-align: top;\n",
       "    }\n",
       "\n",
       "    .dataframe thead th {\n",
       "        text-align: right;\n",
       "    }\n",
       "</style>\n",
       "<table border=\"1\" class=\"dataframe\">\n",
       "  <thead>\n",
       "    <tr style=\"text-align: right;\">\n",
       "      <th></th>\n",
       "      <th>drugs</th>\n",
       "      <th>drug_id</th>\n",
       "      <th>target_disease</th>\n",
       "    </tr>\n",
       "  </thead>\n",
       "  <tbody>\n",
       "    <tr>\n",
       "      <th>0</th>\n",
       "      <td>Levetiracetam</td>\n",
       "      <td>DB01202</td>\n",
       "      <td>epilepsy syndrome</td>\n",
       "    </tr>\n",
       "    <tr>\n",
       "      <th>1</th>\n",
       "      <td>Amobarbital</td>\n",
       "      <td>DB01351</td>\n",
       "      <td>epilepsy syndrome</td>\n",
       "    </tr>\n",
       "    <tr>\n",
       "      <th>2</th>\n",
       "      <td>Diazepam</td>\n",
       "      <td>DB00829</td>\n",
       "      <td>epilepsy syndrome</td>\n",
       "    </tr>\n",
       "    <tr>\n",
       "      <th>3</th>\n",
       "      <td>Phenytoin</td>\n",
       "      <td>DB00252</td>\n",
       "      <td>epilepsy syndrome</td>\n",
       "    </tr>\n",
       "    <tr>\n",
       "      <th>4</th>\n",
       "      <td>Carbamazepine</td>\n",
       "      <td>DB00564</td>\n",
       "      <td>epilepsy syndrome</td>\n",
       "    </tr>\n",
       "  </tbody>\n",
       "</table>\n",
       "</div>"
      ],
      "text/plain": [
       "           drugs  drug_id     target_disease\n",
       "0  Levetiracetam  DB01202  epilepsy syndrome\n",
       "1    Amobarbital  DB01351  epilepsy syndrome\n",
       "2       Diazepam  DB00829  epilepsy syndrome\n",
       "3      Phenytoin  DB00252  epilepsy syndrome\n",
       "4  Carbamazepine  DB00564  epilepsy syndrome"
      ]
     },
     "execution_count": 2,
     "metadata": {},
     "output_type": "execute_result"
    }
   ],
   "source": [
    "disease_name = \"epilepsy\"\n",
    "discovery_drugs_for_disease(name=disease_name, limit=5)"
   ]
  },
  {
   "cell_type": "markdown",
   "id": "870471de",
   "metadata": {},
   "source": [
    "\n",
    "\n",
    "### 复杂关系检索\n",
    "\n",
    "**【2度关系检索】** \n",
    "\n",
    "但当检索条件更加复杂时，其他类型数据库将**无法在理想地时间内完成** 检索。\n",
    "\n",
    "【案例】查看要药物治疗疾病过程中，关联到的基因。"
   ]
  },
  {
   "cell_type": "code",
   "execution_count": 3,
   "id": "7cd2dcc6",
   "metadata": {},
   "outputs": [
    {
     "name": "stdout",
     "output_type": "stream",
     "text": [
      "药物成分 Levetiracetam 与疾病 epilepsy syndrome 共同关联的基因有： \n",
      "\n",
      "(关系路径： 药物 -> 基因 <- 疾病)\n",
      "\n"
     ]
    },
    {
     "data": {
      "text/html": [
       "<div>\n",
       "<style scoped>\n",
       "    .dataframe tbody tr th:only-of-type {\n",
       "        vertical-align: middle;\n",
       "    }\n",
       "\n",
       "    .dataframe tbody tr th {\n",
       "        vertical-align: top;\n",
       "    }\n",
       "\n",
       "    .dataframe thead th {\n",
       "        text-align: right;\n",
       "    }\n",
       "</style>\n",
       "<table border=\"1\" class=\"dataframe\">\n",
       "  <thead>\n",
       "    <tr style=\"text-align: right;\">\n",
       "      <th></th>\n",
       "      <th>Drug</th>\n",
       "      <th>rel_1</th>\n",
       "      <th>gene</th>\n",
       "      <th>rel_2</th>\n",
       "      <th>Disease</th>\n",
       "    </tr>\n",
       "  </thead>\n",
       "  <tbody>\n",
       "    <tr>\n",
       "      <th>0</th>\n",
       "      <td>Levetiracetam</td>\n",
       "      <td>BINDS</td>\n",
       "      <td>SV2A</td>\n",
       "      <td>ASSOCIATES</td>\n",
       "      <td>epilepsy syndrome</td>\n",
       "    </tr>\n",
       "    <tr>\n",
       "      <th>1</th>\n",
       "      <td>Levetiracetam</td>\n",
       "      <td>BINDS</td>\n",
       "      <td>ABCC2</td>\n",
       "      <td>ASSOCIATES</td>\n",
       "      <td>epilepsy syndrome</td>\n",
       "    </tr>\n",
       "    <tr>\n",
       "      <th>2</th>\n",
       "      <td>Levetiracetam</td>\n",
       "      <td>BINDS</td>\n",
       "      <td>ABCB1</td>\n",
       "      <td>ASSOCIATES</td>\n",
       "      <td>epilepsy syndrome</td>\n",
       "    </tr>\n",
       "  </tbody>\n",
       "</table>\n",
       "</div>"
      ],
      "text/plain": [
       "            Drug  rel_1   gene       rel_2            Disease\n",
       "0  Levetiracetam  BINDS   SV2A  ASSOCIATES  epilepsy syndrome\n",
       "1  Levetiracetam  BINDS  ABCC2  ASSOCIATES  epilepsy syndrome\n",
       "2  Levetiracetam  BINDS  ABCB1  ASSOCIATES  epilepsy syndrome"
      ]
     },
     "execution_count": 3,
     "metadata": {},
     "output_type": "execute_result"
    }
   ],
   "source": [
    "disease_name = \"epilepsy syndrome\"\n",
    "compound_name = \"Levetiracetam\"\n",
    "\n",
    "discovery_gene_for_treatment(disease_name=disease_name, drug_name=compound_name, limit=10)"
   ]
  },
  {
   "cell_type": "markdown",
   "id": "856c396b",
   "metadata": {},
   "source": [
    "以上是通过表格形式展现的信息，使用图网络进行展示效果更直观："
   ]
  },
  {
   "cell_type": "code",
   "execution_count": 4,
   "id": "3866c1f9",
   "metadata": {},
   "outputs": [
    {
     "name": "stdout",
     "output_type": "stream",
     "text": [
      "药物成分 Levetiracetam 与疾病 epilepsy syndrome 共同关联的基因有： \n",
      "\n",
      "(关系路径： 药物 -> 基因 <- 疾病)\n",
      "\n"
     ]
    },
    {
     "data": {
      "text/html": [
       "\n",
       "        <iframe\n",
       "            width=\"100%\"\n",
       "            height=\"400\"\n",
       "            src=\"figure/graph-fce42bdc-147b-48d4-a98d-e48e1b4cedc6.html\"\n",
       "            frameborder=\"0\"\n",
       "            allowfullscreen\n",
       "            \n",
       "        ></iframe>\n",
       "        "
      ],
      "text/plain": [
       "<IPython.lib.display.IFrame at 0x17deb6b29b0>"
      ]
     },
     "execution_count": 4,
     "metadata": {},
     "output_type": "execute_result"
    }
   ],
   "source": [
    "discovery_gene_for_treatment(disease_name=disease_name, drug_name=compound_name, limit=10, output=\"graph\")\n"
   ]
  },
  {
   "cell_type": "markdown",
   "id": "27761f7e",
   "metadata": {},
   "source": [
    "**【2+ 度关系检索】** \n",
    "\n",
    "如检索满足 *药物 -> 基因 - 基因 <- 疾病* 关系，或者满足 *药物 -> 基因 - 基因 <- 药物* 关系的信息，使用图网络进行可视化，关系表达更加清晰。\n",
    "\n",
    "以下案例，对满足 *药物 -> 基因 - 基因 <- 疾病* 的路径进行检索。"
   ]
  },
  {
   "cell_type": "code",
   "execution_count": 5,
   "id": "e3151b7f",
   "metadata": {},
   "outputs": [
    {
     "name": "stdout",
     "output_type": "stream",
     "text": [
      "药物成分 Levetiracetam 与疾病 epilepsy syndrome 共同关联的基因有： \n",
      "\n",
      "(关系路径： 药物 -> 基因 - 基因 <- 疾病)\n",
      "\n"
     ]
    },
    {
     "data": {
      "text/html": [
       "<div>\n",
       "<style scoped>\n",
       "    .dataframe tbody tr th:only-of-type {\n",
       "        vertical-align: middle;\n",
       "    }\n",
       "\n",
       "    .dataframe tbody tr th {\n",
       "        vertical-align: top;\n",
       "    }\n",
       "\n",
       "    .dataframe thead th {\n",
       "        text-align: right;\n",
       "    }\n",
       "</style>\n",
       "<table border=\"1\" class=\"dataframe\">\n",
       "  <thead>\n",
       "    <tr style=\"text-align: right;\">\n",
       "      <th></th>\n",
       "      <th>Drug</th>\n",
       "      <th>rel_1</th>\n",
       "      <th>gene</th>\n",
       "      <th>rel_2</th>\n",
       "      <th>gene</th>\n",
       "      <th>rel_3</th>\n",
       "      <th>Disease</th>\n",
       "    </tr>\n",
       "  </thead>\n",
       "  <tbody>\n",
       "    <tr>\n",
       "      <th>0</th>\n",
       "      <td>Levetiracetam</td>\n",
       "      <td>UPREGULATES</td>\n",
       "      <td>NFKB2</td>\n",
       "      <td>INTERACTS</td>\n",
       "      <td>NR3C1</td>\n",
       "      <td>ASSOCIATES</td>\n",
       "      <td>epilepsy syndrome</td>\n",
       "    </tr>\n",
       "    <tr>\n",
       "      <th>1</th>\n",
       "      <td>Levetiracetam</td>\n",
       "      <td>UPREGULATES</td>\n",
       "      <td>NFKB2</td>\n",
       "      <td>INTERACTS</td>\n",
       "      <td>CRP</td>\n",
       "      <td>ASSOCIATES</td>\n",
       "      <td>epilepsy syndrome</td>\n",
       "    </tr>\n",
       "    <tr>\n",
       "      <th>2</th>\n",
       "      <td>Levetiracetam</td>\n",
       "      <td>UPREGULATES</td>\n",
       "      <td>NFKB2</td>\n",
       "      <td>INTERACTS</td>\n",
       "      <td>RELA</td>\n",
       "      <td>ASSOCIATES</td>\n",
       "      <td>epilepsy syndrome</td>\n",
       "    </tr>\n",
       "    <tr>\n",
       "      <th>3</th>\n",
       "      <td>Levetiracetam</td>\n",
       "      <td>UPREGULATES</td>\n",
       "      <td>NFKB2</td>\n",
       "      <td>INTERACTS</td>\n",
       "      <td>PFKL</td>\n",
       "      <td>ASSOCIATES</td>\n",
       "      <td>epilepsy syndrome</td>\n",
       "    </tr>\n",
       "    <tr>\n",
       "      <th>4</th>\n",
       "      <td>Levetiracetam</td>\n",
       "      <td>UPREGULATES</td>\n",
       "      <td>NFKB2</td>\n",
       "      <td>REGULATES</td>\n",
       "      <td>NT5E</td>\n",
       "      <td>ASSOCIATES</td>\n",
       "      <td>epilepsy syndrome</td>\n",
       "    </tr>\n",
       "    <tr>\n",
       "      <th>5</th>\n",
       "      <td>Levetiracetam</td>\n",
       "      <td>UPREGULATES</td>\n",
       "      <td>NFKB2</td>\n",
       "      <td>REGULATES</td>\n",
       "      <td>PPIA</td>\n",
       "      <td>ASSOCIATES</td>\n",
       "      <td>epilepsy syndrome</td>\n",
       "    </tr>\n",
       "    <tr>\n",
       "      <th>6</th>\n",
       "      <td>Levetiracetam</td>\n",
       "      <td>UPREGULATES</td>\n",
       "      <td>NFKB2</td>\n",
       "      <td>REGULATES</td>\n",
       "      <td>CLPB</td>\n",
       "      <td>ASSOCIATES</td>\n",
       "      <td>epilepsy syndrome</td>\n",
       "    </tr>\n",
       "    <tr>\n",
       "      <th>7</th>\n",
       "      <td>Levetiracetam</td>\n",
       "      <td>UPREGULATES</td>\n",
       "      <td>NFKB2</td>\n",
       "      <td>REGULATES</td>\n",
       "      <td>CD40</td>\n",
       "      <td>ASSOCIATES</td>\n",
       "      <td>epilepsy syndrome</td>\n",
       "    </tr>\n",
       "    <tr>\n",
       "      <th>8</th>\n",
       "      <td>Levetiracetam</td>\n",
       "      <td>UPREGULATES</td>\n",
       "      <td>NFKB2</td>\n",
       "      <td>REGULATES</td>\n",
       "      <td>PLAT</td>\n",
       "      <td>ASSOCIATES</td>\n",
       "      <td>epilepsy syndrome</td>\n",
       "    </tr>\n",
       "    <tr>\n",
       "      <th>9</th>\n",
       "      <td>Levetiracetam</td>\n",
       "      <td>UPREGULATES</td>\n",
       "      <td>NFKB2</td>\n",
       "      <td>REGULATES</td>\n",
       "      <td>CAT</td>\n",
       "      <td>ASSOCIATES</td>\n",
       "      <td>epilepsy syndrome</td>\n",
       "    </tr>\n",
       "    <tr>\n",
       "      <th>10</th>\n",
       "      <td>Levetiracetam</td>\n",
       "      <td>UPREGULATES</td>\n",
       "      <td>NFKB2</td>\n",
       "      <td>REGULATES</td>\n",
       "      <td>SRC</td>\n",
       "      <td>ASSOCIATES</td>\n",
       "      <td>epilepsy syndrome</td>\n",
       "    </tr>\n",
       "    <tr>\n",
       "      <th>11</th>\n",
       "      <td>Levetiracetam</td>\n",
       "      <td>UPREGULATES</td>\n",
       "      <td>NFKB2</td>\n",
       "      <td>REGULATES</td>\n",
       "      <td>BECN1</td>\n",
       "      <td>ASSOCIATES</td>\n",
       "      <td>epilepsy syndrome</td>\n",
       "    </tr>\n",
       "    <tr>\n",
       "      <th>12</th>\n",
       "      <td>Levetiracetam</td>\n",
       "      <td>UPREGULATES</td>\n",
       "      <td>NFKB2</td>\n",
       "      <td>REGULATES</td>\n",
       "      <td>MEF2C</td>\n",
       "      <td>ASSOCIATES</td>\n",
       "      <td>epilepsy syndrome</td>\n",
       "    </tr>\n",
       "    <tr>\n",
       "      <th>13</th>\n",
       "      <td>Levetiracetam</td>\n",
       "      <td>UPREGULATES</td>\n",
       "      <td>NFKB2</td>\n",
       "      <td>REGULATES</td>\n",
       "      <td>APEX1</td>\n",
       "      <td>ASSOCIATES</td>\n",
       "      <td>epilepsy syndrome</td>\n",
       "    </tr>\n",
       "    <tr>\n",
       "      <th>14</th>\n",
       "      <td>Levetiracetam</td>\n",
       "      <td>UPREGULATES</td>\n",
       "      <td>NFKB2</td>\n",
       "      <td>complex</td>\n",
       "      <td>RELA</td>\n",
       "      <td>ASSOCIATES</td>\n",
       "      <td>epilepsy syndrome</td>\n",
       "    </tr>\n",
       "  </tbody>\n",
       "</table>\n",
       "</div>"
      ],
      "text/plain": [
       "             Drug        rel_1   gene      rel_2   gene       rel_3  \\\n",
       "0   Levetiracetam  UPREGULATES  NFKB2  INTERACTS  NR3C1  ASSOCIATES   \n",
       "1   Levetiracetam  UPREGULATES  NFKB2  INTERACTS    CRP  ASSOCIATES   \n",
       "2   Levetiracetam  UPREGULATES  NFKB2  INTERACTS   RELA  ASSOCIATES   \n",
       "3   Levetiracetam  UPREGULATES  NFKB2  INTERACTS   PFKL  ASSOCIATES   \n",
       "4   Levetiracetam  UPREGULATES  NFKB2  REGULATES   NT5E  ASSOCIATES   \n",
       "5   Levetiracetam  UPREGULATES  NFKB2  REGULATES   PPIA  ASSOCIATES   \n",
       "6   Levetiracetam  UPREGULATES  NFKB2  REGULATES   CLPB  ASSOCIATES   \n",
       "7   Levetiracetam  UPREGULATES  NFKB2  REGULATES   CD40  ASSOCIATES   \n",
       "8   Levetiracetam  UPREGULATES  NFKB2  REGULATES   PLAT  ASSOCIATES   \n",
       "9   Levetiracetam  UPREGULATES  NFKB2  REGULATES    CAT  ASSOCIATES   \n",
       "10  Levetiracetam  UPREGULATES  NFKB2  REGULATES    SRC  ASSOCIATES   \n",
       "11  Levetiracetam  UPREGULATES  NFKB2  REGULATES  BECN1  ASSOCIATES   \n",
       "12  Levetiracetam  UPREGULATES  NFKB2  REGULATES  MEF2C  ASSOCIATES   \n",
       "13  Levetiracetam  UPREGULATES  NFKB2  REGULATES  APEX1  ASSOCIATES   \n",
       "14  Levetiracetam  UPREGULATES  NFKB2    complex   RELA  ASSOCIATES   \n",
       "\n",
       "              Disease  \n",
       "0   epilepsy syndrome  \n",
       "1   epilepsy syndrome  \n",
       "2   epilepsy syndrome  \n",
       "3   epilepsy syndrome  \n",
       "4   epilepsy syndrome  \n",
       "5   epilepsy syndrome  \n",
       "6   epilepsy syndrome  \n",
       "7   epilepsy syndrome  \n",
       "8   epilepsy syndrome  \n",
       "9   epilepsy syndrome  \n",
       "10  epilepsy syndrome  \n",
       "11  epilepsy syndrome  \n",
       "12  epilepsy syndrome  \n",
       "13  epilepsy syndrome  \n",
       "14  epilepsy syndrome  "
      ]
     },
     "execution_count": 5,
     "metadata": {},
     "output_type": "execute_result"
    }
   ],
   "source": [
    "discovery_gene_for_treatment(disease_name=disease_name, \n",
    "                             drug_name=compound_name, \n",
    "                             limit=15, \n",
    "                             output=\"table\",\n",
    "                             gene_amount=2)"
   ]
  },
  {
   "cell_type": "markdown",
   "id": "bf6b92ec",
   "metadata": {},
   "source": [
    "以上是通过表格形式展现的信息，使用图网络进行展示效果更直观："
   ]
  },
  {
   "cell_type": "code",
   "execution_count": 6,
   "id": "ea24c9c8",
   "metadata": {},
   "outputs": [
    {
     "name": "stdout",
     "output_type": "stream",
     "text": [
      "药物成分 Levetiracetam 与疾病 epilepsy syndrome 共同关联的基因有： \n",
      "\n",
      "(关系路径： 药物 -> 基因 - 基因 <- 疾病)\n",
      "\n"
     ]
    },
    {
     "data": {
      "text/html": [
       "\n",
       "        <iframe\n",
       "            width=\"100%\"\n",
       "            height=\"400\"\n",
       "            src=\"figure/graph-b32363c2-c1c5-4767-a7fa-16be6966e0e8.html\"\n",
       "            frameborder=\"0\"\n",
       "            allowfullscreen\n",
       "            \n",
       "        ></iframe>\n",
       "        "
      ],
      "text/plain": [
       "<IPython.lib.display.IFrame at 0x17deb6d9208>"
      ]
     },
     "execution_count": 6,
     "metadata": {},
     "output_type": "execute_result"
    }
   ],
   "source": [
    "discovery_gene_for_treatment(disease_name=disease_name, \n",
    "                             drug_name=compound_name, \n",
    "                             limit=10, \n",
    "                             output=\"graph\",\n",
    "                             gene_amount=2)"
   ]
  },
  {
   "cell_type": "markdown",
   "id": "2c6ea098",
   "metadata": {},
   "source": [
    " 3. 药物共同性demo, 疾病 - 基因 - 基因 - 疾病"
   ]
  },
  {
   "cell_type": "code",
   "execution_count": 7,
   "id": "a2234788",
   "metadata": {},
   "outputs": [
    {
     "name": "stdout",
     "output_type": "stream",
     "text": [
      "(关系路径： 药物 - 基因 - 基因 - 药物)\n",
      "\n",
      "药物成分 Amoxicillin 与药物成分 Norethindrone 共同关联的基因路径有： \n",
      "\n"
     ]
    },
    {
     "data": {
      "text/html": [
       "<div>\n",
       "<style scoped>\n",
       "    .dataframe tbody tr th:only-of-type {\n",
       "        vertical-align: middle;\n",
       "    }\n",
       "\n",
       "    .dataframe tbody tr th {\n",
       "        vertical-align: top;\n",
       "    }\n",
       "\n",
       "    .dataframe thead th {\n",
       "        text-align: right;\n",
       "    }\n",
       "</style>\n",
       "<table border=\"1\" class=\"dataframe\">\n",
       "  <thead>\n",
       "    <tr style=\"text-align: right;\">\n",
       "      <th></th>\n",
       "      <th>drug_1</th>\n",
       "      <th>rel_1</th>\n",
       "      <th>gene_1</th>\n",
       "      <th>rel_2</th>\n",
       "      <th>gene_2</th>\n",
       "      <th>rel_3</th>\n",
       "      <th>drug_2</th>\n",
       "    </tr>\n",
       "  </thead>\n",
       "  <tbody>\n",
       "    <tr>\n",
       "      <th>0</th>\n",
       "      <td>Amoxicillin</td>\n",
       "      <td>UPREGULATES</td>\n",
       "      <td>PRKCQ</td>\n",
       "      <td>INTERACTS</td>\n",
       "      <td>MALT1</td>\n",
       "      <td>UPREGULATES</td>\n",
       "      <td>Norethindrone</td>\n",
       "    </tr>\n",
       "    <tr>\n",
       "      <th>1</th>\n",
       "      <td>Amoxicillin</td>\n",
       "      <td>UPREGULATES</td>\n",
       "      <td>PRKCQ</td>\n",
       "      <td>REGULATES</td>\n",
       "      <td>COPB2</td>\n",
       "      <td>UPREGULATES</td>\n",
       "      <td>Norethindrone</td>\n",
       "    </tr>\n",
       "    <tr>\n",
       "      <th>2</th>\n",
       "      <td>Amoxicillin</td>\n",
       "      <td>UPREGULATES</td>\n",
       "      <td>PRKCQ</td>\n",
       "      <td>REGULATES</td>\n",
       "      <td>MYC</td>\n",
       "      <td>DOWNREGULATES</td>\n",
       "      <td>Norethindrone</td>\n",
       "    </tr>\n",
       "    <tr>\n",
       "      <th>3</th>\n",
       "      <td>Amoxicillin</td>\n",
       "      <td>UPREGULATES</td>\n",
       "      <td>PRKCQ</td>\n",
       "      <td>REGULATES</td>\n",
       "      <td>MYBL2</td>\n",
       "      <td>DOWNREGULATES</td>\n",
       "      <td>Norethindrone</td>\n",
       "    </tr>\n",
       "    <tr>\n",
       "      <th>4</th>\n",
       "      <td>Amoxicillin</td>\n",
       "      <td>UPREGULATES</td>\n",
       "      <td>PRKCQ</td>\n",
       "      <td>REGULATES</td>\n",
       "      <td>EZH2</td>\n",
       "      <td>DOWNREGULATES</td>\n",
       "      <td>Norethindrone</td>\n",
       "    </tr>\n",
       "    <tr>\n",
       "      <th>5</th>\n",
       "      <td>Amoxicillin</td>\n",
       "      <td>UPREGULATES</td>\n",
       "      <td>PRKCQ</td>\n",
       "      <td>REGULATES</td>\n",
       "      <td>DDIT4</td>\n",
       "      <td>UPREGULATES</td>\n",
       "      <td>Norethindrone</td>\n",
       "    </tr>\n",
       "    <tr>\n",
       "      <th>6</th>\n",
       "      <td>Amoxicillin</td>\n",
       "      <td>UPREGULATES</td>\n",
       "      <td>PRKCQ</td>\n",
       "      <td>REGULATES</td>\n",
       "      <td>GPER1</td>\n",
       "      <td>UPREGULATES</td>\n",
       "      <td>Norethindrone</td>\n",
       "    </tr>\n",
       "    <tr>\n",
       "      <th>7</th>\n",
       "      <td>Amoxicillin</td>\n",
       "      <td>UPREGULATES</td>\n",
       "      <td>PRKCQ</td>\n",
       "      <td>REGULATES</td>\n",
       "      <td>TMEM97</td>\n",
       "      <td>DOWNREGULATES</td>\n",
       "      <td>Norethindrone</td>\n",
       "    </tr>\n",
       "    <tr>\n",
       "      <th>8</th>\n",
       "      <td>Amoxicillin</td>\n",
       "      <td>UPREGULATES</td>\n",
       "      <td>PRKCQ</td>\n",
       "      <td>REGULATES</td>\n",
       "      <td>FOXO3</td>\n",
       "      <td>UPREGULATES</td>\n",
       "      <td>Norethindrone</td>\n",
       "    </tr>\n",
       "    <tr>\n",
       "      <th>9</th>\n",
       "      <td>Amoxicillin</td>\n",
       "      <td>UPREGULATES</td>\n",
       "      <td>PRKCQ</td>\n",
       "      <td>REGULATES</td>\n",
       "      <td>TXNRD1</td>\n",
       "      <td>DOWNREGULATES</td>\n",
       "      <td>Norethindrone</td>\n",
       "    </tr>\n",
       "  </tbody>\n",
       "</table>\n",
       "</div>"
      ],
      "text/plain": [
       "        drug_1        rel_1 gene_1      rel_2  gene_2          rel_3  \\\n",
       "0  Amoxicillin  UPREGULATES  PRKCQ  INTERACTS   MALT1    UPREGULATES   \n",
       "1  Amoxicillin  UPREGULATES  PRKCQ  REGULATES   COPB2    UPREGULATES   \n",
       "2  Amoxicillin  UPREGULATES  PRKCQ  REGULATES     MYC  DOWNREGULATES   \n",
       "3  Amoxicillin  UPREGULATES  PRKCQ  REGULATES   MYBL2  DOWNREGULATES   \n",
       "4  Amoxicillin  UPREGULATES  PRKCQ  REGULATES    EZH2  DOWNREGULATES   \n",
       "5  Amoxicillin  UPREGULATES  PRKCQ  REGULATES   DDIT4    UPREGULATES   \n",
       "6  Amoxicillin  UPREGULATES  PRKCQ  REGULATES   GPER1    UPREGULATES   \n",
       "7  Amoxicillin  UPREGULATES  PRKCQ  REGULATES  TMEM97  DOWNREGULATES   \n",
       "8  Amoxicillin  UPREGULATES  PRKCQ  REGULATES   FOXO3    UPREGULATES   \n",
       "9  Amoxicillin  UPREGULATES  PRKCQ  REGULATES  TXNRD1  DOWNREGULATES   \n",
       "\n",
       "          drug_2  \n",
       "0  Norethindrone  \n",
       "1  Norethindrone  \n",
       "2  Norethindrone  \n",
       "3  Norethindrone  \n",
       "4  Norethindrone  \n",
       "5  Norethindrone  \n",
       "6  Norethindrone  \n",
       "7  Norethindrone  \n",
       "8  Norethindrone  \n",
       "9  Norethindrone  "
      ]
     },
     "execution_count": 7,
     "metadata": {},
     "output_type": "execute_result"
    }
   ],
   "source": [
    "drug_1=\"Amoxicillin\"\n",
    "drug_2=\"Norethindrone\"\n",
    "\n",
    "discovery_similarity_of_drugs(drug_1=drug_1,\n",
    "                              drug_2=drug_2,\n",
    "                             limit=10)"
   ]
  },
  {
   "cell_type": "markdown",
   "id": "9e80be11",
   "metadata": {},
   "source": [
    "以上是通过表格形式展现的信息，使用图网络进行展示效果更直观："
   ]
  },
  {
   "cell_type": "code",
   "execution_count": 8,
   "id": "c33cff0a",
   "metadata": {},
   "outputs": [
    {
     "name": "stdout",
     "output_type": "stream",
     "text": [
      "(关系路径： 药物 - 基因 - 基因 - 药物)\n",
      "\n",
      "药物成分 Amoxicillin 与药物成分 Norethindrone 共同关联的基因路径有： \n",
      "\n"
     ]
    },
    {
     "data": {
      "text/html": [
       "\n",
       "        <iframe\n",
       "            width=\"100%\"\n",
       "            height=\"400\"\n",
       "            src=\"figure/graph-f2dfee95-01c0-4d8e-93b5-8726ec166a13.html\"\n",
       "            frameborder=\"0\"\n",
       "            allowfullscreen\n",
       "            \n",
       "        ></iframe>\n",
       "        "
      ],
      "text/plain": [
       "<IPython.lib.display.IFrame at 0x17deb722be0>"
      ]
     },
     "execution_count": 8,
     "metadata": {},
     "output_type": "execute_result"
    }
   ],
   "source": [
    "drug_1=\"Amoxicillin\"\n",
    "drug_2=\"Norethindrone\"\n",
    "\n",
    "discovery_similarity_of_drugs(drug_1=drug_1,\n",
    "                              drug_2=drug_2,\n",
    "                              limit=10,\n",
    "                              output='graph')"
   ]
  },
  {
   "cell_type": "markdown",
   "id": "d83aaaff",
   "metadata": {},
   "source": [
    "### 关联性预测\n",
    "\n",
    "预测新药品与疾病的关联性，示例：\n",
    "\n",
    "Clofarabine (DB00631)　有　8.798%　的概率在治疗　sclerosis (DOID:2377)上起作用。以下展示本次预测中，贡献权重最大的路径信息：\n",
    "\n",
    "\n"
   ]
  },
  {
   "cell_type": "code",
   "execution_count": 9,
   "id": "308a56e0",
   "metadata": {},
   "outputs": [
    {
     "data": {
      "text/html": [
       "\n",
       "        <iframe\n",
       "            width=\"100%\"\n",
       "            height=\"400\"\n",
       "            src=\"figure/graph-e222f947-146b-48ff-aeec-3d020cb24226.html\"\n",
       "            frameborder=\"0\"\n",
       "            allowfullscreen\n",
       "            \n",
       "        ></iframe>\n",
       "        "
      ],
      "text/plain": [
       "<IPython.lib.display.IFrame at 0x17deb6a6828>"
      ]
     },
     "execution_count": 9,
     "metadata": {},
     "output_type": "execute_result"
    }
   ],
   "source": [
    "link_prediction_demo()"
   ]
  },
  {
   "cell_type": "markdown",
   "id": "226a1ff7",
   "metadata": {},
   "source": [
    "Project Rephetio predicted a probability of 8.798% that Clofarabine (DB00631) treats multiple sclerosis (DOID:2377). This probability represents a 23.37-fold enrichment over the background prevalence of treatment. This prediction is in the 98.5th percentile for Clofarabine and the 99.8th percentile for multiple sclerosis."
   ]
  },
  {
   "cell_type": "code",
   "execution_count": null,
   "id": "fe41eb8c",
   "metadata": {},
   "outputs": [],
   "source": []
  },
  {
   "cell_type": "code",
   "execution_count": null,
   "id": "0c1288cd",
   "metadata": {},
   "outputs": [],
   "source": []
  },
  {
   "cell_type": "code",
   "execution_count": null,
   "id": "75731287",
   "metadata": {},
   "outputs": [],
   "source": []
  },
  {
   "cell_type": "code",
   "execution_count": null,
   "id": "634301f1",
   "metadata": {},
   "outputs": [],
   "source": []
  },
  {
   "cell_type": "code",
   "execution_count": null,
   "id": "90bc643d",
   "metadata": {},
   "outputs": [],
   "source": []
  },
  {
   "cell_type": "code",
   "execution_count": null,
   "id": "9b0af346",
   "metadata": {},
   "outputs": [],
   "source": []
  },
  {
   "cell_type": "code",
   "execution_count": null,
   "id": "6c61c1be",
   "metadata": {},
   "outputs": [],
   "source": []
  },
  {
   "cell_type": "code",
   "execution_count": 10,
   "id": "ee072451",
   "metadata": {},
   "outputs": [
    {
     "data": {
      "text/html": [
       "<img src=\"./link_prediction_demo.png\" style=\"zoom:60%; margin: 0 auto\">\n"
      ],
      "text/plain": [
       "<IPython.core.display.HTML object>"
      ]
     },
     "metadata": {},
     "output_type": "display_data"
    }
   ],
   "source": [
    "%%html\n",
    "<img src=\"./link_prediction_demo.png\" style=\"zoom:60%; margin: 0 auto\">\n"
   ]
  },
  {
   "cell_type": "markdown",
   "id": "c96c94d4",
   "metadata": {},
   "source": []
  }
 ],
 "metadata": {
  "kernelspec": {
   "display_name": "Python 3 (ipykernel)",
   "language": "python",
   "name": "python3"
  },
  "language_info": {
   "codemirror_mode": {
    "name": "ipython",
    "version": 3
   },
   "file_extension": ".py",
   "mimetype": "text/x-python",
   "name": "python",
   "nbconvert_exporter": "python",
   "pygments_lexer": "ipython3",
   "version": "3.7.0"
  },
  "vscode": {
   "interpreter": {
    "hash": "7a34463b2619cc3764b346d8f0ad06fcb685e3ab24f76807cdb1f81c7f565fe0"
   }
  }
 },
 "nbformat": 4,
 "nbformat_minor": 5
}
